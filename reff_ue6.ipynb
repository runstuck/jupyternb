{
 "cells": [
  {
   "cell_type": "code",
   "execution_count": 19,
   "id": "02ff55b7-2269-4c72-9e06-fe73eae9a40d",
   "metadata": {},
   "outputs": [
    {
     "name": "stdout",
     "output_type": "stream",
     "text": [
      "Erweiterte Koeffizientenmatrix:\n"
     ]
    },
    {
     "data": {
      "text/latex": [
       "$\\displaystyle \\left[\\begin{matrix}4 & 7 & -26 & 9 & -10\\\\1 & 2 & -7 & 2 & -3\\\\-3 & -5 & 19 & -7 & 7\\end{matrix}\\right]$"
      ],
      "text/plain": [
       "Matrix([\n",
       "[ 4,  7, -26,  9, -10],\n",
       "[ 1,  2,  -7,  2,  -3],\n",
       "[-3, -5,  19, -7,   7]])"
      ]
     },
     "metadata": {},
     "output_type": "display_data"
    },
    {
     "name": "stdout",
     "output_type": "stream",
     "text": [
      "Reduzierte Zeilenstufenform:\n"
     ]
    },
    {
     "data": {
      "text/latex": [
       "$\\displaystyle \\left[\\begin{matrix}1 & 0 & -3 & 4 & 1\\\\0 & 1 & -2 & -1 & -2\\\\0 & 0 & 0 & 0 & 0\\end{matrix}\\right]$"
      ],
      "text/plain": [
       "Matrix([\n",
       "[1, 0, -3,  4,  1],\n",
       "[0, 1, -2, -1, -2],\n",
       "[0, 0,  0,  0,  0]])"
      ]
     },
     "metadata": {},
     "output_type": "display_data"
    }
   ],
   "source": [
    "# Import der Python-CAS-Bibliothek \"sympy\"\n",
    "import sympy as sp\n",
    "\n",
    "#A1 e)\n",
    "A = [[4, 7, -26, 9],\n",
    "     [1, 2, -7, 2],\n",
    "     [-3, -5, 19, -7]]\n",
    "b = [-10, -3, 7]\n",
    "\n",
    "# A1 a) A = [[-3, 2, -3],[9, -2, 10],[6, 8, 14]];b = [6, -10, 22]\n",
    "#    b) A = [[3, -14, 2, -1],[-2, 13, -4, 3], [1, -6, 1, -1],[2, -12, 2, 1]];b = [-7, 9, -4, 1]\n",
    "#    c) A = [[1, -3, 2],[4, -2, 5],[3, 1, 3]];b = [1, -2, 3]\n",
    "#    d) A = [[-1, 3, 4],[2, 0, -1],[6, 2, 3],[3, 1, 0],[4, 1, 2]];b = [1, 6, 28, 11, 19]\n",
    "#    e) A = [[4, 7, -26, 9],[1, 2, -7, 2],[-3, -5, 19, -7]];b = [-10, -3, 7]\n",
    "# A2 a) A = [[3, 4, -1],[1, -2, 1],[-2, 5, 3],[5, -1, 4]];b = [0, 0, 0, 0]\n",
    "#    b) A = [[1, 2, -5, -7, -8],[-2, -5, 14, 16, 21],[3, 5, -8, -25, -10],[2, 1, 2, -16, 3]];b = [0, 0, 0, 0]\n",
    "#    c) A = [[1, 2, 3],[2, 3, 4],[1, 5, 7]];b = [0, 0, 0]\n",
    "#    d) A = [[5, 2, 4, 6],[0, 4, 7, 10],[1, 8, 6, 4],[-3, 0, 6, 12]];b = [0, 0, 0, 0]\n",
    "\n",
    "# Konvertieren die Liste von Listen bzw. des Arrays in eine \"sympy-Matrix\"\n",
    "A = sp.Matrix(A)\n",
    "b = sp.Matrix(b)\n",
    "Ab = A.row_join(b) # Erstellung der erweiterten Matrix\n",
    "\n",
    "print(\"Erweiterte Koeffizientenmatrix:\")\n",
    "display(Ab)\n",
    "\n",
    "print(\"Reduzierte Zeilenstufenform:\")\n",
    "display(Ab.rref()[0])   # reff steht für reduced row echolon form"
   ]
  },
  {
   "cell_type": "code",
   "execution_count": null,
   "id": "2f973439-44b3-436c-8528-1d31f70aab3f",
   "metadata": {},
   "outputs": [],
   "source": []
  },
  {
   "cell_type": "code",
   "execution_count": null,
   "id": "d199c93a-9fe2-4a1a-be35-f150d3f42bcb",
   "metadata": {},
   "outputs": [],
   "source": []
  }
 ],
 "metadata": {
  "kernelspec": {
   "display_name": "Python 3 (ipykernel)",
   "language": "python",
   "name": "python3"
  },
  "language_info": {
   "codemirror_mode": {
    "name": "ipython",
    "version": 3
   },
   "file_extension": ".py",
   "mimetype": "text/x-python",
   "name": "python",
   "nbconvert_exporter": "python",
   "pygments_lexer": "ipython3",
   "version": "3.12.3"
  }
 },
 "nbformat": 4,
 "nbformat_minor": 5
}
