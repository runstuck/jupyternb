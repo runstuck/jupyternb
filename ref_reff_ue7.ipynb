{
 "cells": [
  {
   "cell_type": "code",
   "execution_count": 26,
   "id": "4ca794f6-5d86-4921-b82c-dfbf2732d4eb",
   "metadata": {},
   "outputs": [],
   "source": [
    "def ref(matrix, vector):\n",
    "    # Erstelle die erweiterte Koeffizientenmatrix (A|b)\n",
    "    Ab = matrix.row_join(vector)\n",
    "    m, n = Ab.shape  # Gesamtgröße der erweiterten Matrix\n",
    "    i = 0  # Zeilenindex für die Pivotzeilen\n",
    "    j = 0  # Spaltenindex für die Pivotspalten\n",
    "\n",
    "    while i < m and j < n - 1:  # Achte darauf, dass j nicht die letzte Spalte (Vektorspalte) überprüft\n",
    "        # Suche das erste Nicht-Null-Element in der aktuellen Spalte\n",
    "        pivot = None\n",
    "        for k in range(i, m):\n",
    "            if Ab[k, j] != 0:\n",
    "                pivot = k\n",
    "                break\n",
    "\n",
    "        if pivot is None:\n",
    "            j += 1  # Kein Pivot in dieser Spalte, gehe zur nächsten Spalte\n",
    "        else:\n",
    "            # Tausche die aktuelle Zeile mit der Pivotzeile, falls nötig\n",
    "            if i != pivot:\n",
    "                Ab.row_swap(i, pivot)\n",
    "\n",
    "            # Eliminiere alle Elemente unterhalb des Pivots\n",
    "            pivot_element = Ab[i, j]\n",
    "            for k in range(i + 1, m):\n",
    "                if Ab[k, j] != 0:\n",
    "                    factor = Ab[k, j] / pivot_element\n",
    "                    Ab[k, j:] = sp.simplify(Ab[k, j:] - factor * Ab[i, j:])\n",
    "\n",
    "            # Vereinfache die aktuelle Pivotzeile nach der Elimination\n",
    "            Ab[i, j:] = sp.factor(Ab[i, j:])\n",
    "\n",
    "            i += 1  # Gehe zur nächsten Zeile und zur nächsten Spalte\n",
    "            j += 1\n",
    "\n",
    "            #Ab[i, j:] = sp.simplify(Ab[i, j:])\n",
    "\n",
    "    # Vereinfache jede Zeile am Ende\n",
    "    #for row in range(m):\n",
    "        #Ab[row, :] = sp.simplify(Ab[row, :])\n",
    "    return Ab"
   ]
  },
  {
   "cell_type": "code",
   "execution_count": 39,
   "id": "02ff55b7-2269-4c72-9e06-fe73eae9a40d",
   "metadata": {},
   "outputs": [
    {
     "name": "stdout",
     "output_type": "stream",
     "text": [
      "Erweiterte Koeffizientenmatrix:\n"
     ]
    },
    {
     "data": {
      "text/latex": [
       "$\\displaystyle \\left[\\begin{matrix}\\left(t - 1\\right)^{2} & 1 & t & 0\\\\1 & 1 & 0 & 0\\\\2 & 3 & 1 & t\\end{matrix}\\right]$"
      ],
      "text/plain": [
       "Matrix([\n",
       "[(t - 1)**2, 1, t, 0],\n",
       "[         1, 1, 0, 0],\n",
       "[         2, 3, 1, t]])"
      ]
     },
     "metadata": {},
     "output_type": "display_data"
    },
    {
     "name": "stdout",
     "output_type": "stream",
     "text": [
      "Eine Zeilenstufenform:\n"
     ]
    },
    {
     "data": {
      "text/latex": [
       "$\\displaystyle \\left[\\begin{matrix}\\left(t - 1\\right)^{2} & 1 & t & 0\\\\0 & 1 - \\frac{1}{\\left(t - 1\\right)^{2}} & - \\frac{t}{\\left(t - 1\\right)^{2}} & 0\\\\0 & 0 & \\frac{t - 1}{t - 2} & t\\end{matrix}\\right]$"
      ],
      "text/plain": [
       "Matrix([\n",
       "[(t - 1)**2,                1,               t, 0],\n",
       "[         0, 1 - 1/(t - 1)**2,   -t/(t - 1)**2, 0],\n",
       "[         0,                0, (t - 1)/(t - 2), t]])"
      ]
     },
     "metadata": {},
     "output_type": "display_data"
    },
    {
     "name": "stdout",
     "output_type": "stream",
     "text": [
      "Reduzierte Zeilenstufenform:\n"
     ]
    },
    {
     "data": {
      "text/latex": [
       "$\\displaystyle \\left[\\begin{matrix}1 & 0 & 0 & - \\frac{t^{2}}{t^{2} - t}\\\\0 & 1 & 0 & \\frac{t^{2}}{t^{2} - t}\\\\0 & 0 & 1 & \\frac{t^{2} - 2 t}{t - 1}\\end{matrix}\\right]$"
      ],
      "text/plain": [
       "Matrix([\n",
       "[1, 0, 0,     -t**2/(t**2 - t)],\n",
       "[0, 1, 0,      t**2/(t**2 - t)],\n",
       "[0, 0, 1, (t**2 - 2*t)/(t - 1)]])"
      ]
     },
     "metadata": {},
     "output_type": "display_data"
    }
   ],
   "source": [
    "# Import der Python-CAS-Bibliothek \"sympy\"\n",
    "import sympy as sp\n",
    "from IPython.display import display, HTML, Latex\n",
    "\n",
    "# Definition eines symbolischen Parameters a\n",
    "t = sp.symbols('t')\n",
    "\n",
    "#c=-3\n",
    "#a=3\n",
    "\n",
    "#Aufgabe 3\n",
    "A = [\n",
    "    [(t-1)**2, 1, t],\n",
    "    [1, 1, 0],\n",
    "    [2, 3, 1]\n",
    "]\n",
    "\n",
    "b = [0, 0, t]\n",
    "\n",
    "#Aufgabe 1 a) A = [[3, 2, 2],[1, 1, 3],[3, 1, 1]];b = [6, 2*a, 0]  \n",
    "#Aufgabe 1 b) A = [[3, 2, 2, -1],[-2, 0, 3, 0],[1, 2, 5, -1]];b = [1, 2, a] \n",
    "#Aufgabe 1 c) A = [[-1, 0, a],[-3, a, 2],[2, 'a', -2*a]];b = [0, 2, 2] \n",
    "#Aufgabe 2 A = [[1, -2, -2],[6, 3*c-3, -6],[1, 1, c]];b = [0, 6, 2]\n",
    "#Aufgabe 3 A = [[(t-1)**2, 1, t],[1, 1, 0],[2, 3, 1]];b = [0, 0, t]\n",
    "#Aufgabe 4  (Berechnung der Inversen A^(-1)) A = [[2, 4, 1],[0, 2, 1],[4, 0, 2]];b=[[1, 0, 0],[0, 1, 0],[0, 0, 1]]\n",
    "#Aufgabe 7  a) (Berechnung der Inversen A^(-1)) A = [[4, 3, 2],[3, -1, -5],[1, 1, 1]];b=[[1, 0, 0],[0, 1, 0],[0, 0, 1]]\n",
    "#Aufgabe 7  b) (Berechnung der Inversen A^(-1)) A = [[-2, 2, 2, 4],[1, 0, 5, 2],[-1, 2, 5, 4],[3, -2, 3, 0]];b=[[1, 0, 0, 0],[0, 1, 0, 0],[0, 0, 1, 0],[0, 0, 0, 1]]\n",
    "\n",
    "\n",
    "# Konvertieren die Liste von Listen bzw. des Arrays in eine \"sympy-Matrix\"\n",
    "A = sp.Matrix(A)\n",
    "b = sp.Matrix(b)\n",
    "Ab = A.row_join(b) # Erstellung der erweiterten Matrix\n",
    "\n",
    "print(\"Erweiterte Koeffizientenmatrix:\")\n",
    "display(Ab)\n",
    "\n",
    "print(\"Eine Zeilenstufenform:\")\n",
    "ZSF = ref(A, b)   # eine zu reff() vergleichbare Funktion \"ref()\" (reduced echolon form) gibt es in sympy nicht\n",
    "display(ZSF)\n",
    "\n",
    "print(\"Reduzierte Zeilenstufenform:\")\n",
    "display(Ab.rref()[0])   # reff steht für reduced row echolon form"
   ]
  },
  {
   "cell_type": "code",
   "execution_count": null,
   "id": "2f973439-44b3-436c-8528-1d31f70aab3f",
   "metadata": {},
   "outputs": [],
   "source": []
  },
  {
   "cell_type": "code",
   "execution_count": null,
   "id": "6d09019c-605a-4618-8199-8f64ce30fe5f",
   "metadata": {},
   "outputs": [],
   "source": []
  }
 ],
 "metadata": {
  "kernelspec": {
   "display_name": "Python 3 (ipykernel)",
   "language": "python",
   "name": "python3"
  },
  "language_info": {
   "codemirror_mode": {
    "name": "ipython",
    "version": 3
   },
   "file_extension": ".py",
   "mimetype": "text/x-python",
   "name": "python",
   "nbconvert_exporter": "python",
   "pygments_lexer": "ipython3",
   "version": "3.12.3"
  }
 },
 "nbformat": 4,
 "nbformat_minor": 5
}
