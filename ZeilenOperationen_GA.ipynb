{
 "cells": [
  {
   "cell_type": "code",
   "execution_count": 70,
   "id": "48b7032b-ce42-44f1-a69a-66eff990de89",
   "metadata": {},
   "outputs": [],
   "source": [
    "# Import der Python-CAS-Bibliothek \"sympy\"\n",
    "import sympy as sp\n",
    "from IPython.display import display, HTML, Latex\n",
    "\n",
    "def rrowi_addto_srowj(Ab, r, i, s, j, show=2):\n",
    "    source_factor=r; source_row=i; target_factor=s; target_row=j\n",
    "    source_row=source_row-1\n",
    "    target_row=target_row-1\n",
    "    # Führe die Zeilenoperation aus\n",
    "    Ab[target_row, :] = target_factor*Ab[target_row, :] + source_factor*Ab[source_row, :]\n",
    "    # Erstelle das Statement für die ausgeführte Operation\n",
    "    statement = f\"$({source_factor} \\\\cdot z_{{{source_row+1}}}) + ({target_factor} \\\\cdot z_{{{target_row+1}}}) \\\\longrightarrow z_{{{target_row+1}}}$\"\n",
    "    display_text_matrices(statement, Ab, show)\n",
    "    return Ab\n",
    "\n",
    "def row_swap(Ab, row1, row2, show=2):\n",
    "    row1 = row1 - 1  # Anpassung für die Indexierung in Python (beginnt bei 0)\n",
    "    row2 = row2 - 1\n",
    "    Ab[row1, :], Ab[row2, :] = Ab[row2, :].copy(), Ab[row1, :].copy()\n",
    "    statement = f\"$z_{{{row1+1}}}  \\\\longleftrightarrow z_{{{row2+1}}}$\"\n",
    "    display_text_matrices(statement, Ab, show)\n",
    "    return Ab\n",
    "\n",
    "def display_text_matrices(statement, matrix, show=0):\n",
    "    #if show==0: latex_str=''\n",
    "    if show==1: latex_str= f\"$\\\\text{{ {statement} }}$\"\n",
    "    if show==2: latex_str = f\"$\\\\text{{ {statement} }}$\"; latex_str2 = f\"$\\\\longrightarrow{sp.latex(matrix, mat_delim='(')}$\"\n",
    "    if show==3: latex_str = f\"$\\\\longrightarrow{sp.latex(matrix, mat_delim='(')}$\"\n",
    "    if show!=0: display(Latex(latex_str)); \n",
    "    if show==2: display(Latex(latex_str2))"
   ]
  },
  {
   "cell_type": "code",
   "execution_count": 84,
   "id": "b155dc66-55c3-42b4-b705-6e0dd436dbb3",
   "metadata": {},
   "outputs": [
    {
     "name": "stdout",
     "output_type": "stream",
     "text": [
      "Erweiterte Koeffizientenmatrix:\n"
     ]
    },
    {
     "data": {
      "text/latex": [
       "$\\left(\\begin{matrix}4 & 7 & -26 & 9 & -10\\\\1 & 2 & -7 & 2 & -3\\\\-3 & -5 & 19 & -7 & 7\\end{matrix}\\right)$"
      ],
      "text/plain": [
       "<IPython.core.display.Latex object>"
      ]
     },
     "metadata": {},
     "output_type": "display_data"
    },
    {
     "name": "stdout",
     "output_type": "stream",
     "text": [
      "--------------------------------------------------\n",
      "Zeilenoperationen / Gauß-Algorithmus:\n"
     ]
    },
    {
     "data": {
      "text/latex": [
       "$\\text{ $z_{1}  \\longleftrightarrow z_{2}$ }$"
      ],
      "text/plain": [
       "<IPython.core.display.Latex object>"
      ]
     },
     "metadata": {},
     "output_type": "display_data"
    },
    {
     "data": {
      "text/latex": [
       "$\\longrightarrow\\left(\\begin{matrix}1 & 2 & -7 & 2 & -3\\\\4 & 7 & -26 & 9 & -10\\\\-3 & -5 & 19 & -7 & 7\\end{matrix}\\right)$"
      ],
      "text/plain": [
       "<IPython.core.display.Latex object>"
      ]
     },
     "metadata": {},
     "output_type": "display_data"
    },
    {
     "data": {
      "text/latex": [
       "$\\text{ $(-4 \\cdot z_{1}) + (1 \\cdot z_{2}) \\longrightarrow z_{2}$ }$"
      ],
      "text/plain": [
       "<IPython.core.display.Latex object>"
      ]
     },
     "metadata": {},
     "output_type": "display_data"
    },
    {
     "data": {
      "text/latex": [
       "$\\text{ $(3 \\cdot z_{1}) + (1 \\cdot z_{3}) \\longrightarrow z_{3}$ }$"
      ],
      "text/plain": [
       "<IPython.core.display.Latex object>"
      ]
     },
     "metadata": {},
     "output_type": "display_data"
    },
    {
     "data": {
      "text/latex": [
       "$\\longrightarrow\\left(\\begin{matrix}1 & 2 & -7 & 2 & -3\\\\0 & -1 & 2 & 1 & 2\\\\0 & 1 & -2 & -1 & -2\\end{matrix}\\right)$"
      ],
      "text/plain": [
       "<IPython.core.display.Latex object>"
      ]
     },
     "metadata": {},
     "output_type": "display_data"
    },
    {
     "data": {
      "text/latex": [
       "$\\text{ $(1 \\cdot z_{2}) + (1 \\cdot z_{3}) \\longrightarrow z_{3}$ }$"
      ],
      "text/plain": [
       "<IPython.core.display.Latex object>"
      ]
     },
     "metadata": {},
     "output_type": "display_data"
    },
    {
     "data": {
      "text/latex": [
       "$\\longrightarrow\\left(\\begin{matrix}1 & 2 & -7 & 2 & -3\\\\0 & -1 & 2 & 1 & 2\\\\0 & 0 & 0 & 0 & 0\\end{matrix}\\right)$"
      ],
      "text/plain": [
       "<IPython.core.display.Latex object>"
      ]
     },
     "metadata": {},
     "output_type": "display_data"
    },
    {
     "data": {
      "text/latex": [
       "$\\text{ $(2 \\cdot z_{2}) + (1 \\cdot z_{1}) \\longrightarrow z_{1}$ }$"
      ],
      "text/plain": [
       "<IPython.core.display.Latex object>"
      ]
     },
     "metadata": {},
     "output_type": "display_data"
    },
    {
     "data": {
      "text/latex": [
       "$\\longrightarrow\\left(\\begin{matrix}1 & 0 & -3 & 4 & 1\\\\0 & -1 & 2 & 1 & 2\\\\0 & 0 & 0 & 0 & 0\\end{matrix}\\right)$"
      ],
      "text/plain": [
       "<IPython.core.display.Latex object>"
      ]
     },
     "metadata": {},
     "output_type": "display_data"
    },
    {
     "data": {
      "text/latex": [
       "$\\longrightarrow\\left(\\begin{matrix}1 & 0 & -3 & 4 & 1\\\\0 & 1 & -2 & -1 & -2\\\\0 & 0 & 0 & 0 & 0\\end{matrix}\\right)$"
      ],
      "text/plain": [
       "<IPython.core.display.Latex object>"
      ]
     },
     "metadata": {},
     "output_type": "display_data"
    }
   ],
   "source": [
    "# @title Programm: ZeilenOperationen_GA\n",
    "# Definition eines symbolischen Parameters a\n",
    "a = sp.symbols('a')\n",
    "#a=2\n",
    "\n",
    "# Beispiel\n",
    "A = [[4, 7, -26, 9],\n",
    "     [1, 2, -7, 2],\n",
    "     [-3, -5, 19, -7]]\n",
    "b = [-10, -3, 7]\n",
    "\n",
    "# Konvertieren die Liste von Listen bzw. des Arrays in eine \"sympy-Matrix\"\n",
    "A = sp.Matrix(A)\n",
    "b = sp.Matrix(b)\n",
    "\n",
    "# Erstellung und Anzeige der erwiterten Koeffizientenmatrix\n",
    "Ab = A.row_join(b); print('Erweiterte Koeffizientenmatrix:');latex_str = f\"${sp.latex(Ab, mat_delim='(')}$\";display(Latex(latex_str))\n",
    "\n",
    "#-------- Zeilenoperationen / Gauß-Algorithmus -----------\n",
    "print('--------------------------------------------------')\n",
    "print('Zeilenoperationen / Gauß-Algorithmus:')\n",
    "Ab = row_swap(Ab, 1, 2, show=2)\n",
    "Ab = rrowi_addto_srowj(Ab, r=-4, i=1, s=1, j=2, show=1)\n",
    "Ab = rrowi_addto_srowj(Ab, 3, 1, 1, 3, show=2)\n",
    "Ab = rrowi_addto_srowj(Ab, 1, 2, 1, 3, show=2)\n",
    "Ab = rrowi_addto_srowj(Ab, 2, 2, 1, 1, show=2)\n",
    "Ab = rrowi_addto_srowj(Ab, 0, 2, -1, 2, show=3)"
   ]
  },
  {
   "cell_type": "code",
   "execution_count": null,
   "id": "fda94350-8f3c-4907-9af3-83a87f9be6a8",
   "metadata": {},
   "outputs": [],
   "source": []
  }
 ],
 "metadata": {
  "kernelspec": {
   "display_name": "Python 3 (ipykernel)",
   "language": "python",
   "name": "python3"
  },
  "language_info": {
   "codemirror_mode": {
    "name": "ipython",
    "version": 3
   },
   "file_extension": ".py",
   "mimetype": "text/x-python",
   "name": "python",
   "nbconvert_exporter": "python",
   "pygments_lexer": "ipython3",
   "version": "3.12.3"
  }
 },
 "nbformat": 4,
 "nbformat_minor": 5
}
