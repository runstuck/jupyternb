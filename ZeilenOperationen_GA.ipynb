{
  "nbformat": 4,
  "nbformat_minor": 0,
  "metadata": {
    "colab": {
      "provenance": []
    },
    "kernelspec": {
      "name": "python3",
      "display_name": "Python 3"
    },
    "language_info": {
      "name": "python"
    }
  },
  "cells": [
    {
      "cell_type": "code",
      "execution_count": 4,
      "metadata": {
        "id": "l9zJWI7T83av",
        "cellView": "form"
      },
      "outputs": [],
      "source": [
        "# @title Funktionen für das nachfolgende Programm\n",
        "# Import der Python-CAS-Bibliothek \"sympy\"\n",
        "import sympy as sp\n",
        "from IPython.display import display, HTML, Latex\n",
        "\n",
        "def x_zeile_x_addto_x_zeile_x(Ab, source_factor, source_row, target_factor, target_row):\n",
        "    source_row=source_row-1\n",
        "    target_row=target_row-1\n",
        "    # Führe die Zeilenoperation aus\n",
        "    Ab[target_row, :] = target_factor*Ab[target_row, :] + source_factor*Ab[source_row, :]\n",
        "    # Erstelle das Statement für die ausgeführte Operation\n",
        "    statement = f\"$({source_factor} \\cdot z_{{{source_row+1}}}) + ({target_factor} \\cdot z_{{{target_row+1}}}) \\longrightarrow z_{{{target_row+1}}}$\"\n",
        "\n",
        "    return statement, Ab\n",
        "\n",
        "def zeile_x_swap_zeile_x(Ab, row1, row2):\n",
        "    row1 = row1 - 1  # Anpassung für die Indexierung in Python (beginnt bei 0)\n",
        "    row2 = row2 - 1\n",
        "    Ab[row1, :], Ab[row2, :] = Ab[row2, :].copy(), Ab[row1, :].copy()\n",
        "    statement = f\"$z_{{{row1+1}}}  \\longleftrightarrow z_{{{row2+1}}}$\"\n",
        "    return statement, Ab\n",
        "\n",
        "def display_text_matrices(statement, matrix, show=0):\n",
        "    if show==0: latex_str=''\n",
        "    if show==1: latex_str=latex_str = f\"\\\\text{{ {statement} }}\"\n",
        "    if show==2: latex_str = f\"\\\\text{{ {statement} }} \\\\\\\\ \\\\quad \\\\quad \\\\quad \\\\quad \\longrightarrow{sp.latex(matrix, mat_delim='(')}\"\n",
        "    if show==3: latex_str = f\"\\\\quad \\longrightarrow{sp.latex(matrix, mat_delim='(')}\"\n",
        "    display(Latex(latex_str))\n"
      ]
    },
    {
      "cell_type": "code",
      "source": [
        "# @title Programm: ZeilenOperationen_GA\n",
        "# Definition eines symbolischen Parameters a\n",
        "a = sp.symbols('a')\n",
        "#a=2\n",
        "\n",
        "# Beispiel\n",
        "A = [[4, 7, -26, 9],\n",
        "     [1, 2, -7, 2],\n",
        "     [-3, -5, 19, -7]]\n",
        "b = [-10, -3, 7]\n",
        "\n",
        "# Konvertieren die Liste von Listen bzw. des Arrays in eine \"sympy-Matrix\"\n",
        "A = sp.Matrix(A)\n",
        "b = sp.Matrix(b)\n",
        "\n",
        "# Erstellung der erwiterten Koeffizientenmatrix\n",
        "Ab = A.row_join(b)\n",
        "\n",
        "display(\"Erweiterte Koeffizientenmatrix:\")\n",
        "latex_str = f\"{sp.latex(Ab, mat_delim='(')}\"\n",
        "display(Latex(latex_str))\n",
        "print('--------------------------------------------------')\n",
        "\n",
        "#--------------------ZEILEN TAUSCHEN-------------------------------------------------------\n",
        "#Ab = zeile_x_swap_zeile_x(Ab, 1, 2); display_text_matrices(Ab[0], Ab[1], 2); Ab=Ab[1]\n",
        "#print('--------------------------------------------------')\n",
        "#-------------------------------------------------------------------------------------------\n",
        "\n",
        "#----------------Addition VIELFACHES EINER ZEILE zu VIELFACHEM EINER ZEILE ----------------\n",
        "#Ab = zeile_x_swap_zeile_x(Ab, 1, 2); display_text_matrices(Ab[0], Ab[1], 2); Ab=Ab[1]\n",
        "#print('--------------------------------------------------')\n",
        "#-------------------------------------------------------------------------------------------\n",
        "\n",
        "Ab = zeile_x_swap_zeile_x(Ab, 1, 2); display_text_matrices(Ab[0], Ab[1], 0); Ab=Ab[1]\n",
        "print('--------------------------------------------------')\n",
        "Ab = x_zeile_x_addto_x_zeile_x(Ab, -4, 1, 1, 2); display_text_matrices(Ab[0], Ab[1], 1); Ab=Ab[1]\n",
        "Ab = x_zeile_x_addto_x_zeile_x(Ab, 3, 1, 1, 3); display_text_matrices(Ab[0], Ab[1], 2); Ab=Ab[1]\n",
        "print('--------------------------------------------------')\n",
        "Ab = x_zeile_x_addto_x_zeile_x(Ab, 1, 2, 1, 3); display_text_matrices(Ab[0], Ab[1], 2); Ab=Ab[1]\n",
        "print('--------------------------------------------------')\n",
        "Ab = x_zeile_x_addto_x_zeile_x(Ab, 2, 2, 1, 1); display_text_matrices(Ab[0], Ab[1], 2); Ab=Ab[1]\n",
        "print('--------------------------------------------------')\n",
        "Ab = x_zeile_x_addto_x_zeile_x(Ab, 0, 2, -1, 2); display_text_matrices(Ab[0], Ab[1], 2); Ab=Ab[1]\n",
        "print('--------------------------------------------------')"
      ],
      "metadata": {
        "id": "VpjF9EOvmHwz",
        "cellView": "form"
      },
      "execution_count": null,
      "outputs": []
    }
  ]
}